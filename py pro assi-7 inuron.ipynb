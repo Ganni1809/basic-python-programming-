{
 "cells": [
  {
   "cell_type": "code",
   "execution_count": null,
   "id": "edc36352-ad80-48fe-8297-18d3bf724a35",
   "metadata": {},
   "outputs": [],
   "source": [
    "# py prom assi-7- inuron\n",
    "#1. Write a Python Program to find sum of array?\n",
    "#2. Write a Python Program to find largest element in an array?\n",
    "#3. Write a Python Program for array rotation?\n",
    "#4. Write a Python Program to Split the array and add the first part to the end?\n",
    "#5. Write a Python Program to check if given array is Monotonic?"
   ]
  },
  {
   "cell_type": "code",
   "execution_count": 5,
   "id": "51c3d471-765b-4fd6-8723-f1d739d5ab30",
   "metadata": {},
   "outputs": [
    {
     "name": "stdout",
     "output_type": "stream",
     "text": [
      "Sum of all elements in given list:  132\n"
     ]
    }
   ],
   "source": [
    "#1. Write a Python Program to find sum of array?\n",
    "total = 0\n",
    "list1 = [1,81,2,3,34,5,6,]\n",
    "for i in range(0, len(list1)):\n",
    "    total = total + list1[i]\n",
    "print(\"Sum of all elements in given list: \", total)\n",
    "    "
   ]
  },
  {
   "cell_type": "code",
   "execution_count": 7,
   "id": "d1182c52-49fe-4a05-a6ba-4c8c747d5ec1",
   "metadata": {},
   "outputs": [
    {
     "name": "stdout",
     "output_type": "stream",
     "text": [
      "Largest element present in given array: 75\n"
     ]
    }
   ],
   "source": [
    "#2. Write a Python Program to find largest element in an array?\n",
    "arr = [25, 11, 7, 75, 56];     \n",
    "min = arr[0];    \n",
    "for i in range(0, len(arr)):       \n",
    "   if(arr[i] > min):    \n",
    "       min = arr[i];    \n",
    "     \n",
    "print(\"Largest element present in given array: \" + str(min));"
   ]
  },
  {
   "cell_type": "code",
   "execution_count": 9,
   "id": "eebb4691-bd61-421f-803e-8d30245167fc",
   "metadata": {},
   "outputs": [
    {
     "name": "stdout",
     "output_type": "stream",
     "text": [
      "rotated list is [10, 11, 12, 13, 14, 15]\n"
     ]
    }
   ],
   "source": [
    "#3. Write a Python Program for array rotation?\n",
    "lst = [10, 11, 12, 13, 14, 15]\n",
    "lst.reverse()\n",
    "print(\"rotated list is\", list(reversed(lst)))"
   ]
  },
  {
   "cell_type": "code",
   "execution_count": 16,
   "id": "82e76c96-98f4-47f8-a2e6-c5269e8a7b27",
   "metadata": {},
   "outputs": [
    {
     "name": "stdout",
     "output_type": "stream",
     "text": [
      "[12, 10, 5, 6, 52, 36]\n"
     ]
    }
   ],
   "source": [
    "#4. Write a Python Program to Split the array and add the first part to the end?\n",
    "def snda(arr, n):\n",
    "    for i in range(n):\n",
    "        first_half = arr[:len(arr)//2]\n",
    "        second_half = arr[len(arr)//2:]\n",
    "        arr = second_half + first_half\n",
    "    return arr\n",
    "\n",
    "array = [12, 10, 5, 6, 52, 36]\n",
    "n = 2\n",
    "print(snda(array, n))"
   ]
  },
  {
   "cell_type": "code",
   "execution_count": 18,
   "id": "6b248288-79d2-4f36-bf1c-9562eb458d8f",
   "metadata": {},
   "outputs": [
    {
     "name": "stdout",
     "output_type": "stream",
     "text": [
      "False\n",
      "True\n"
     ]
    }
   ],
   "source": [
    "#5. Write a Python Program to check if given array is Monotonic?\n",
    "def isMonotonic(A):\n",
    "    x, y = [], []\n",
    "    x.extend(A)\n",
    "    y.extend(A)\n",
    "    x.sort()\n",
    "    y.sort(reverse=True)\n",
    "    if(x == A or y == A):\n",
    "        return True\n",
    "    return False\n",
    "A = [6,5,4,4,2,3,448,6,5]\n",
    "B=[6, 5, 4, 4]\n",
    "print(isMonotonic(A))\n",
    "print(isMonotonic(B))"
   ]
  }
 ],
 "metadata": {
  "kernelspec": {
   "display_name": "Python 3 (ipykernel)",
   "language": "python",
   "name": "python3"
  },
  "language_info": {
   "codemirror_mode": {
    "name": "ipython",
    "version": 3
   },
   "file_extension": ".py",
   "mimetype": "text/x-python",
   "name": "python",
   "nbconvert_exporter": "python",
   "pygments_lexer": "ipython3",
   "version": "3.10.6"
  }
 },
 "nbformat": 4,
 "nbformat_minor": 5
}
