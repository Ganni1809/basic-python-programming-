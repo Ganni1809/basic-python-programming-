{
 "cells": [
  {
   "cell_type": "code",
   "execution_count": 4,
   "id": "b9d71b4e",
   "metadata": {},
   "outputs": [
    {
     "name": "stdout",
     "output_type": "stream",
     "text": [
      "enter a distance in kilometers:4\n",
      "2.48\n"
     ]
    }
   ],
   "source": [
    "## python assignment2:-\n",
    "##question 1:\n",
    "## Write a Python program to convert kilometers to miles?\n",
    "a=int(input(\"enter a distance in kilometers:\"))\n",
    "b=a*0.62\n",
    "print (b)"
   ]
  },
  {
   "cell_type": "code",
   "execution_count": 11,
   "id": "ca32ac01",
   "metadata": {},
   "outputs": [
    {
     "name": "stdout",
     "output_type": "stream",
     "text": [
      "enter temperature in celsius:90.5\n",
      "temperature in fahrenheit: 162.9\n"
     ]
    }
   ],
   "source": [
    "## question 2:\n",
    "## Write a Python program to convert Celsius to Fahrenheit?\n",
    "a=float(input(\"enter temperature in celsius:\"))\n",
    "b=a*1.8\n",
    "print(\"temperature in fahrenheit:\",b)"
   ]
  },
  {
   "cell_type": "code",
   "execution_count": 12,
   "id": "1d8c1ae4",
   "metadata": {},
   "outputs": [
    {
     "name": "stdout",
     "output_type": "stream",
     "text": [
      "     June 2022\n",
      "Mo Tu We Th Fr Sa Su\n",
      "       1  2  3  4  5\n",
      " 6  7  8  9 10 11 12\n",
      "13 14 15 16 17 18 19\n",
      "20 21 22 23 24 25 26\n",
      "27 28 29 30\n",
      "\n"
     ]
    }
   ],
   "source": [
    "## question 3:\n",
    "## Write a Python program to display calendar?\n",
    "import calendar\n",
    "yy = 2022\n",
    "mm = 6\n",
    "print(calendar.month(yy, mm))\n"
   ]
  },
  {
   "cell_type": "code",
   "execution_count": 18,
   "id": "845c9802",
   "metadata": {},
   "outputs": [
    {
     "name": "stdout",
     "output_type": "stream",
     "text": [
      "enter coefficient of x^2:1\n",
      "enter coefficient of x:-2\n",
      "enter the constant:1\n",
      "root1 1.0\n",
      "root2 1.0\n"
     ]
    }
   ],
   "source": [
    "## question 4:\n",
    "## Write a Python program to solve quadratic equation?\n",
    "\n",
    "import math \n",
    "a=int(input(\"enter coefficient of x^2:\"))\n",
    "b=int (input(\"enter coefficient of x:\"))\n",
    "c=int(input(\"enter the constant:\"))\n",
    "\n",
    "root1= float(-b+math.sqrt(b**2-4*a*c))/2*a\n",
    "root2= float(-b-math.sqrt(b**2-4*a*c))/2*a\n",
    "print('root1',root1)\n",
    "print('root2',root2)"
   ]
  },
  {
   "cell_type": "code",
   "execution_count": 20,
   "id": "dd36d617",
   "metadata": {},
   "outputs": [
    {
     "name": "stdout",
     "output_type": "stream",
     "text": [
      "enter number x:2\n",
      "enter number y:5\n",
      "Before swapping: \n",
      "Value of x :  2  and y :  5\n",
      "After swapping: \n",
      "Value of x :  5  and y :  2\n"
     ]
    }
   ],
   "source": [
    "## question 5:\n",
    "## Write a Python program to swap two variables without temp variable?\n",
    "x = int(input('enter number x:'))\n",
    "y = int(input('enter number y:'))\n",
    "print (\"Before swapping: \")\n",
    "print(\"Value of x : \", x, \" and y : \", y)\n",
    "x, y = y, x \n",
    "print (\"After swapping: \")\n",
    "print(\"Value of x : \", x, \" and y : \", y)"
   ]
  },
  {
   "cell_type": "code",
   "execution_count": null,
   "id": "87f46374",
   "metadata": {},
   "outputs": [],
   "source": []
  }
 ],
 "metadata": {
  "kernelspec": {
   "display_name": "Python 3 (ipykernel)",
   "language": "python",
   "name": "python3"
  },
  "language_info": {
   "codemirror_mode": {
    "name": "ipython",
    "version": 3
   },
   "file_extension": ".py",
   "mimetype": "text/x-python",
   "name": "python",
   "nbconvert_exporter": "python",
   "pygments_lexer": "ipython3",
   "version": "3.9.7"
  }
 },
 "nbformat": 4,
 "nbformat_minor": 5
}
