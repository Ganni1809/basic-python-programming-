{
 "cells": [
  {
   "cell_type": "code",
   "execution_count": 1,
   "id": "dd8bbc6d-ad23-44e6-9486-4aa8feeee236",
   "metadata": {},
   "outputs": [
    {
     "name": "stdin",
     "output_type": "stream",
     "text": [
      "enter the limit of series: 10\n"
     ]
    },
    {
     "name": "stdout",
     "output_type": "stream",
     "text": [
      "Fibonacci sequence:\n",
      "0\n",
      "1\n",
      "1\n",
      "2\n",
      "3\n",
      "5\n",
      "8\n",
      "13\n",
      "21\n",
      "34\n"
     ]
    }
   ],
   "source": [
    "#basic py pro.inuron 6\n",
    "#1. Write a Python Program to Display Fibonacci Sequence Using Recursion?\n",
    "def fib(a):\n",
    "    if a<=1:\n",
    "        return(a)\n",
    "    else:\n",
    "        return(fib(a-1)+fib(a-2))\n",
    "nterms =int(input(\"enter the limit of series:\"))\n",
    "if nterms <= 0:\n",
    "    print(\"Plese enter a positive integer\")\n",
    "else:\n",
    "    print(\"Fibonacci sequence:\")\n",
    "    for i in range(nterms):\n",
    "        print(fib(i))"
   ]
  },
  {
   "cell_type": "code",
   "execution_count": 4,
   "id": "81d673ae-95ed-4b40-91b2-f09454e84e80",
   "metadata": {},
   "outputs": [
    {
     "name": "stdin",
     "output_type": "stream",
     "text": [
      "enter the positive number 10\n"
     ]
    },
    {
     "name": "stdout",
     "output_type": "stream",
     "text": [
      "The factorial of 10 is 3628800\n"
     ]
    }
   ],
   "source": [
    "#2. Write a Python Program to Find Factorial of Number Using Recursion?\n",
    "def fact(num):\n",
    "    factorial = 1\n",
    "    if num < 0:\n",
    "        \n",
    "        print(\"Sorry, factorial does not exist for negative numbers\")\n",
    "    elif num == 0:\n",
    "        print(\"The factorial of 0 is 1\")\n",
    "    else:\n",
    "        for i in range(1,num + 1):\n",
    "            factorial = factorial*i\n",
    "        print(\"The factorial of\",num,\"is\",factorial)\n",
    "\n",
    "a=fact(int(input('enter the positive number')))\n"
   ]
  },
  {
   "cell_type": "code",
   "execution_count": 5,
   "id": "0d6b4ea3-552d-41b8-910d-0ea1d8d7bdb3",
   "metadata": {},
   "outputs": [
    {
     "data": {
      "text/plain": [
       "25.969529085872576"
      ]
     },
     "execution_count": 5,
     "metadata": {},
     "output_type": "execute_result"
    }
   ],
   "source": [
    "#3. Write a Python Program to calculate your Body Mass Index?\n",
    "def bmi(a,b):\n",
    "    return(a/(b**2))\n",
    "bmi(60,1.52)\n",
    "## Here a is weight in Kilograms\n",
    "## b is height in meters"
   ]
  },
  {
   "cell_type": "code",
   "execution_count": 6,
   "id": "5c62c565-27fc-4eeb-b398-f0fec5bd1967",
   "metadata": {},
   "outputs": [
    {
     "name": "stdin",
     "output_type": "stream",
     "text": [
      "enter base value: 10\n"
     ]
    },
    {
     "name": "stdout",
     "output_type": "stream",
     "text": [
      "Logarithm base 5 of 14 is : 1.0\n"
     ]
    },
    {
     "name": "stdin",
     "output_type": "stream",
     "text": [
      "enter base value: 2\n"
     ]
    },
    {
     "name": "stdout",
     "output_type": "stream",
     "text": [
      "Logarithm base 5 of 14 is : 3.0\n"
     ]
    }
   ],
   "source": [
    "#4. Write a Python Program to calculate the natural logarithm of any number?\n",
    "import math\n",
    "def log(a):\n",
    "    b=int(input(\"enter base value:\"))\n",
    "    if b==None:\n",
    "        print (\"Natural logarithm of 14 is : \", end=\"\")\n",
    "        print (math.log(a))\n",
    "    else:\n",
    "        print (\"Logarithm base 5 of 14 is : \", end=\"\")\n",
    "        print (math.log(a,b))\n",
    "log(10)\n",
    "log(8)"
   ]
  },
  {
   "cell_type": "code",
   "execution_count": 7,
   "id": "45dce2b2-cab8-4352-8313-c4586638783c",
   "metadata": {},
   "outputs": [
    {
     "data": {
      "text/plain": [
       "36.0"
      ]
     },
     "execution_count": 7,
     "metadata": {},
     "output_type": "execute_result"
    }
   ],
   "source": [
    "#5. Write a Python Program for cube sum of first n natural numbers?\n",
    "def cubesum(a):\n",
    "    return(((a**2)*(a+1)**2/4))\n",
    "cubesum(3)"
   ]
  }
 ],
 "metadata": {
  "kernelspec": {
   "display_name": "Python 3 (ipykernel)",
   "language": "python",
   "name": "python3"
  },
  "language_info": {
   "codemirror_mode": {
    "name": "ipython",
    "version": 3
   },
   "file_extension": ".py",
   "mimetype": "text/x-python",
   "name": "python",
   "nbconvert_exporter": "python",
   "pygments_lexer": "ipython3",
   "version": "3.10.6"
  }
 },
 "nbformat": 4,
 "nbformat_minor": 5
}
