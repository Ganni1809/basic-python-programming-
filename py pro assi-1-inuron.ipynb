{
 "cells": [
  {
   "cell_type": "code",
   "execution_count": 1,
   "id": "9672592c",
   "metadata": {},
   "outputs": [
    {
     "name": "stdout",
     "output_type": "stream",
     "text": [
      "Hello Python\n"
     ]
    }
   ],
   "source": [
    "## question 1:\n",
    "## Write a Python program to print \"Hello Python\"?\n",
    "print(\"Hello Python\")"
   ]
  },
  {
   "cell_type": "code",
   "execution_count": 11,
   "id": "1458a75c",
   "metadata": {},
   "outputs": [
    {
     "name": "stdout",
     "output_type": "stream",
     "text": [
      "enter a number1:6\n",
      "enter a number2:9\n",
      "addition of a and b are : 15\n",
      "division of a and b are : 0.6666666666666666\n"
     ]
    }
   ],
   "source": [
    "##question 2:\n",
    "## Write a Python program to do arithmetical operations addition and division.?\n",
    "a=int(input(\"enter a number1:\"))\n",
    "b=int(input(\"enter a number2:\"))\n",
    "add=a+b\n",
    "div=a/b\n",
    "print('addition of a and b are :',add)\n",
    "print('division of a and b are :',div)\n",
    "\n"
   ]
  },
  {
   "cell_type": "code",
   "execution_count": 3,
   "id": "2333fc46",
   "metadata": {},
   "outputs": [
    {
     "name": "stdout",
     "output_type": "stream",
     "text": [
      "enter length of triangle:3\n",
      "enter bredth of triangle:5\n",
      "area of triangle: 7.5\n"
     ]
    }
   ],
   "source": [
    "## question 3:\n",
    "## Write a Python program to find the area of a triangle?\n",
    "a=int(input('enter length of triangle:'))\n",
    "b=int(input('enter bredth of triangle:'))\n",
    "area=.5*a*b\n",
    "print ('area of triangle:',area)"
   ]
  },
  {
   "cell_type": "code",
   "execution_count": 4,
   "id": "632d50ac",
   "metadata": {},
   "outputs": [
    {
     "name": "stdout",
     "output_type": "stream",
     "text": [
      "enter number a:43\n",
      "enter number b:24\n",
      "a: 24\n",
      "b: 43\n"
     ]
    }
   ],
   "source": [
    "## question 4:\n",
    "## Write a Python program to swap two variables?\n",
    "a=int(input(\"enter number a:\"))\n",
    "b=int(input(\"enter number b:\"))\n",
    "temp=a\n",
    "a=b\n",
    "b=temp\n",
    "print ('a:',a)\n",
    "print('b:',b)"
   ]
  },
  {
   "cell_type": "code",
   "execution_count": 5,
   "id": "b7bf2b9a",
   "metadata": {},
   "outputs": [
    {
     "name": "stdout",
     "output_type": "stream",
     "text": [
      "enter lower bound:2\n",
      "enter upper bound:3\n",
      "2\n"
     ]
    }
   ],
   "source": [
    "import random\n",
    "a=int(input('enter lower bound:'))\n",
    "b=int(input('enter upper bound:'))\n",
    "print(random.randint(a,b))"
   ]
  },
  {
   "cell_type": "code",
   "execution_count": null,
   "id": "6d891303",
   "metadata": {},
   "outputs": [],
   "source": []
  },
  {
   "cell_type": "code",
   "execution_count": null,
   "id": "2c58d2fd",
   "metadata": {},
   "outputs": [],
   "source": []
  }
 ],
 "metadata": {
  "kernelspec": {
   "display_name": "Python 3 (ipykernel)",
   "language": "python",
   "name": "python3"
  },
  "language_info": {
   "codemirror_mode": {
    "name": "ipython",
    "version": 3
   },
   "file_extension": ".py",
   "mimetype": "text/x-python",
   "name": "python",
   "nbconvert_exporter": "python",
   "pygments_lexer": "ipython3",
   "version": "3.9.7"
  }
 },
 "nbformat": 4,
 "nbformat_minor": 5
}
