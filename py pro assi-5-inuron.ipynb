{
 "cells": [
  {
   "cell_type": "code",
   "execution_count": 7,
   "id": "0d21faaf",
   "metadata": {},
   "outputs": [
    {
     "name": "stdout",
     "output_type": "stream",
     "text": [
      "enter a:6\n",
      "enter b:12\n",
      "('lcm of a,b:', 12)\n"
     ]
    }
   ],
   "source": [
    "\n",
    "##basic py pro.inuron 5\n",
    "\n",
    "#1. Write a Python Program to Find LCM?\n",
    "\n",
    "def lcmof(a,b):\n",
    "    if a>b:\n",
    "        i=a\n",
    "    else:\n",
    "        i=b\n",
    "    while(1):\n",
    "        if((i % a == 0) and (i % b == 0)):\n",
    "            \n",
    "            lcm = i\n",
    "            break\n",
    "        i += 1\n",
    "\n",
    "    return (\"lcm of a,b:\" ,lcm)\n",
    "c=int(input(\"enter a:\"))\n",
    "j=int(input(\"enter b:\"))\n",
    "print (lcmof(c,j))\n"
   ]
  },
  {
   "cell_type": "code",
   "execution_count": 6,
   "id": "6af4d6e1",
   "metadata": {},
   "outputs": [
    {
     "name": "stdout",
     "output_type": "stream",
     "text": [
      "enter a:6\n",
      "enter b:8\n",
      "('hcf of a,b:', 1)\n"
     ]
    }
   ],
   "source": [
    "#2. Write a Python Program to Find HCF?\n",
    "def hcfof(a,b):\n",
    "    if a>b:\n",
    "        i=b\n",
    "    else:\n",
    "        i=a\n",
    "    for i in range(1,i+1):\n",
    "        \n",
    "        if((a % i == 0) and (b % i == 0)):\n",
    "            \n",
    "            hcf = i\n",
    "            break\n",
    "        i += 1\n",
    "\n",
    "    return (\"hcf of a,b:\" ,hcf)\n",
    "\n",
    "c=int(input(\"enter a:\"))\n",
    "j=int(input(\"enter b:\"))\n",
    "print (hcfof(c,j))\n"
   ]
  },
  {
   "cell_type": "code",
   "execution_count": 3,
   "id": "e639f1da",
   "metadata": {},
   "outputs": [
    {
     "name": "stdout",
     "output_type": "stream",
     "text": [
      "Enter an integer: 67\n",
      "The decimal value of 67 is:\n",
      "0b1000011 in binary.\n",
      "0o103 in octal.\n",
      "0x43 in hexadecimal.\n"
     ]
    }
   ],
   "source": [
    "#3. Write a Python Program to Convert Decimal to Binary, Octal and Hexadecimal?\n",
    "dec = int(input(\"Enter an integer: \"))\n",
    "print(\"The decimal value of\",dec,\"is:\")\n",
    "print(bin(dec),\"in binary.\")\n",
    "print(oct(dec),\"in octal.\")\n",
    "print(hex(dec),\"in hexadecimal.\")"
   ]
  },
  {
   "cell_type": "code",
   "execution_count": 4,
   "id": "ee561904",
   "metadata": {},
   "outputs": [
    {
     "name": "stdout",
     "output_type": "stream",
     "text": [
      "The ASCII value of 'i' is 105\n"
     ]
    }
   ],
   "source": [
    "#4. Write a Python Program To Find ASCII value of a character?\n",
    "g = 'i'\n",
    "print(\"The ASCII value of '\" + g + \"' is\", ord(g))"
   ]
  },
  {
   "cell_type": "code",
   "execution_count": 5,
   "id": "c890fdd2",
   "metadata": {},
   "outputs": [
    {
     "name": "stdout",
     "output_type": "stream",
     "text": [
      "a is:45\n",
      "b is:60\n",
      "sum is: 105\n",
      "difference is: -15\n",
      "product is: 2700\n",
      "quotient is: 0\n"
     ]
    }
   ],
   "source": [
    "#5. Write a Python Program to Make a Simple Calculator with 4 basic mathematical operations?\n",
    "def add(a,b):\n",
    "    return a+b\n",
    "def sub(a,b):\n",
    "    return a-b\n",
    "def mul(a,b):\n",
    "    return a*b\n",
    "def div(a,b):\n",
    "    return a//b\n",
    "g=int(input(\"a is:\"))\n",
    "h=int(input(\"b is:\"))\n",
    "print('sum is:',add(g,h))\n",
    "print('difference is:',sub(g,h))\n",
    "print('product is:',mul(g,h))\n",
    "print('quotient is:',div(g,h))"
   ]
  },
  {
   "cell_type": "code",
   "execution_count": null,
   "id": "3b90e757",
   "metadata": {},
   "outputs": [],
   "source": []
  },
  {
   "cell_type": "code",
   "execution_count": null,
   "id": "67f529ff",
   "metadata": {},
   "outputs": [],
   "source": []
  }
 ],
 "metadata": {
  "kernelspec": {
   "display_name": "Python 3 (ipykernel)",
   "language": "python",
   "name": "python3"
  },
  "language_info": {
   "codemirror_mode": {
    "name": "ipython",
    "version": 3
   },
   "file_extension": ".py",
   "mimetype": "text/x-python",
   "name": "python",
   "nbconvert_exporter": "python",
   "pygments_lexer": "ipython3",
   "version": "3.10.5"
  }
 },
 "nbformat": 4,
 "nbformat_minor": 5
}
